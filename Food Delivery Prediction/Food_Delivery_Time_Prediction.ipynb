{
  "nbformat": 4,
  "nbformat_minor": 0,
  "metadata": {
    "colab": {
      "provenance": [],
      "gpuType": "T4"
    },
    "kernelspec": {
      "name": "python3",
      "display_name": "Python 3"
    },
    "language_info": {
      "name": "python"
    },
    "accelerator": "GPU"
  },
  "cells": [
    {
      "cell_type": "code",
      "metadata": {
        "colab": {
          "base_uri": "https://localhost:8080/",
          "height": 435
        },
        "id": "ab61bd4b",
        "outputId": "62313606-2126-493e-fad8-96ce1d3d3ebb"
      },
      "source": [
        "import pandas as pd\n",
        "\n",
        "# Load the dataset into a pandas DataFrame\n",
        "df = pd.read_csv('/content/Food_Delivery_Times.csv')\n",
        "\n",
        "# Display the first 5 rows of the DataFrame\n",
        "display(df.head().to_markdown(index=False, numalign=\"left\", stralign=\"left\"))\n",
        "\n",
        "# Display the DataFrame's information\n",
        "display(df.info())"
      ],
      "execution_count": 4,
      "outputs": [
        {
          "output_type": "display_data",
          "data": {
            "text/plain": [
              "'| Order_ID   | Distance_km   | Weather   | Traffic_Level   | Time_of_Day   | Vehicle_Type   | Preparation_Time_min   | Courier_Experience_yrs   | Delivery_Time_min   |\\n|:-----------|:--------------|:----------|:----------------|:--------------|:---------------|:-----------------------|:-------------------------|:--------------------|\\n| 522        | 7.93          | Windy     | Low             | Afternoon     | Scooter        | 12                     | 1                        | 43                  |\\n| 738        | 16.42         | Clear     | Medium          | Evening       | Bike           | 20                     | 2                        | 84                  |\\n| 741        | 9.52          | Foggy     | Low             | Night         | Scooter        | 28                     | 1                        | 59                  |\\n| 661        | 7.44          | Rainy     | Medium          | Afternoon     | Scooter        | 5                      | 1                        | 37                  |\\n| 412        | 19.03         | Clear     | Low             | Morning       | Bike           | 16                     | 5                        | 68                  |'"
            ],
            "application/vnd.google.colaboratory.intrinsic+json": {
              "type": "string"
            }
          },
          "metadata": {}
        },
        {
          "output_type": "stream",
          "name": "stdout",
          "text": [
            "<class 'pandas.core.frame.DataFrame'>\n",
            "RangeIndex: 1000 entries, 0 to 999\n",
            "Data columns (total 9 columns):\n",
            " #   Column                  Non-Null Count  Dtype  \n",
            "---  ------                  --------------  -----  \n",
            " 0   Order_ID                1000 non-null   int64  \n",
            " 1   Distance_km             1000 non-null   float64\n",
            " 2   Weather                 970 non-null    object \n",
            " 3   Traffic_Level           970 non-null    object \n",
            " 4   Time_of_Day             970 non-null    object \n",
            " 5   Vehicle_Type            1000 non-null   object \n",
            " 6   Preparation_Time_min    1000 non-null   int64  \n",
            " 7   Courier_Experience_yrs  970 non-null    float64\n",
            " 8   Delivery_Time_min       1000 non-null   int64  \n",
            "dtypes: float64(2), int64(3), object(4)\n",
            "memory usage: 70.4+ KB\n"
          ]
        },
        {
          "output_type": "display_data",
          "data": {
            "text/plain": [
              "None"
            ]
          },
          "metadata": {}
        }
      ]
    },
    {
      "cell_type": "code",
      "metadata": {
        "colab": {
          "base_uri": "https://localhost:8080/",
          "height": 648
        },
        "id": "c2dc7ffc",
        "outputId": "15d12c1e-dec3-438c-9f49-ca23749eb6d1"
      },
      "source": [
        "# Check for missing values\n",
        "print(\"Missing values per column:\")\n",
        "print(df.isnull().sum())\n",
        "\n",
        "# Display descriptive statistics for numerical columns\n",
        "print(\"\\nDescriptive statistics for numerical columns:\")\n",
        "display(df.describe().to_markdown(numalign=\"left\", stralign=\"left\"))\n",
        "\n",
        "# Display value counts for categorical columns\n",
        "categorical_cols = ['Weather', 'Traffic_Level', 'Time_of_Day', 'Vehicle_Type']\n",
        "for col in categorical_cols:\n",
        "    print(f\"\\nValue counts for {col}:\")\n",
        "    display(df[col].value_counts().to_markdown(numalign=\"left\", stralign=\"left\"))"
      ],
      "execution_count": 5,
      "outputs": [
        {
          "output_type": "stream",
          "name": "stdout",
          "text": [
            "Missing values per column:\n",
            "Order_ID                   0\n",
            "Distance_km                0\n",
            "Weather                   30\n",
            "Traffic_Level             30\n",
            "Time_of_Day               30\n",
            "Vehicle_Type               0\n",
            "Preparation_Time_min       0\n",
            "Courier_Experience_yrs    30\n",
            "Delivery_Time_min          0\n",
            "dtype: int64\n",
            "\n",
            "Descriptive statistics for numerical columns:\n"
          ]
        },
        {
          "output_type": "display_data",
          "data": {
            "text/plain": [
              "'|       | Order_ID   | Distance_km   | Preparation_Time_min   | Courier_Experience_yrs   | Delivery_Time_min   |\\n|:------|:-----------|:--------------|:-----------------------|:-------------------------|:--------------------|\\n| count | 1000       | 1000          | 1000                   | 970                      | 1000                |\\n| mean  | 500.5      | 10.06         | 16.982                 | 4.57938                  | 56.732              |\\n| std   | 288.819    | 5.69666       | 7.20455                | 2.91439                  | 22.0709             |\\n| min   | 1          | 0.59          | 5                      | 0                        | 8                   |\\n| 25%   | 250.75     | 5.105         | 11                     | 2                        | 41                  |\\n| 50%   | 500.5      | 10.19         | 17                     | 5                        | 55.5                |\\n| 75%   | 750.25     | 15.0175       | 23                     | 7                        | 71                  |\\n| max   | 1000       | 19.99         | 29                     | 9                        | 153                 |'"
            ],
            "application/vnd.google.colaboratory.intrinsic+json": {
              "type": "string"
            }
          },
          "metadata": {}
        },
        {
          "output_type": "stream",
          "name": "stdout",
          "text": [
            "\n",
            "Value counts for Weather:\n"
          ]
        },
        {
          "output_type": "display_data",
          "data": {
            "text/plain": [
              "'| Weather   | count   |\\n|:----------|:--------|\\n| Clear     | 470     |\\n| Rainy     | 204     |\\n| Foggy     | 103     |\\n| Snowy     | 97      |\\n| Windy     | 96      |'"
            ],
            "application/vnd.google.colaboratory.intrinsic+json": {
              "type": "string"
            }
          },
          "metadata": {}
        },
        {
          "output_type": "stream",
          "name": "stdout",
          "text": [
            "\n",
            "Value counts for Traffic_Level:\n"
          ]
        },
        {
          "output_type": "display_data",
          "data": {
            "text/plain": [
              "'| Traffic_Level   | count   |\\n|:----------------|:--------|\\n| Medium          | 390     |\\n| Low             | 383     |\\n| High            | 197     |'"
            ],
            "application/vnd.google.colaboratory.intrinsic+json": {
              "type": "string"
            }
          },
          "metadata": {}
        },
        {
          "output_type": "stream",
          "name": "stdout",
          "text": [
            "\n",
            "Value counts for Time_of_Day:\n"
          ]
        },
        {
          "output_type": "display_data",
          "data": {
            "text/plain": [
              "'| Time_of_Day   | count   |\\n|:--------------|:--------|\\n| Morning       | 308     |\\n| Evening       | 293     |\\n| Afternoon     | 284     |\\n| Night         | 85      |'"
            ],
            "application/vnd.google.colaboratory.intrinsic+json": {
              "type": "string"
            }
          },
          "metadata": {}
        },
        {
          "output_type": "stream",
          "name": "stdout",
          "text": [
            "\n",
            "Value counts for Vehicle_Type:\n"
          ]
        },
        {
          "output_type": "display_data",
          "data": {
            "text/plain": [
              "'| Vehicle_Type   | count   |\\n|:---------------|:--------|\\n| Bike           | 503     |\\n| Scooter        | 302     |\\n| Car            | 195     |'"
            ],
            "application/vnd.google.colaboratory.intrinsic+json": {
              "type": "string"
            }
          },
          "metadata": {}
        }
      ]
    },
    {
      "cell_type": "code",
      "metadata": {
        "colab": {
          "base_uri": "https://localhost:8080/"
        },
        "id": "942f57cd",
        "outputId": "5fc818ee-2903-422e-91b1-238c0cbf6dc0"
      },
      "source": [
        "# Impute missing numerical values with the mean\n",
        "numerical_cols_with_missing = ['Courier_Experience_yrs']\n",
        "for col in numerical_cols_with_missing:\n",
        "    df[col].fillna(df[col].mean(), inplace=True)\n",
        "\n",
        "# Impute missing categorical values with the mode\n",
        "categorical_cols_with_missing = ['Weather', 'Traffic_Level', 'Time_of_Day']\n",
        "for col in categorical_cols_with_missing:\n",
        "    df[col].fillna(df[col].mode()[0], inplace=True)\n",
        "\n",
        "# Verify that missing values have been handled\n",
        "print(\"Missing values after imputation:\")\n",
        "print(df.isnull().sum())"
      ],
      "execution_count": 6,
      "outputs": [
        {
          "output_type": "stream",
          "name": "stdout",
          "text": [
            "Missing values after imputation:\n",
            "Order_ID                  0\n",
            "Distance_km               0\n",
            "Weather                   0\n",
            "Traffic_Level             0\n",
            "Time_of_Day               0\n",
            "Vehicle_Type              0\n",
            "Preparation_Time_min      0\n",
            "Courier_Experience_yrs    0\n",
            "Delivery_Time_min         0\n",
            "dtype: int64\n"
          ]
        },
        {
          "output_type": "stream",
          "name": "stderr",
          "text": [
            "/tmp/ipython-input-476414304.py:4: FutureWarning: A value is trying to be set on a copy of a DataFrame or Series through chained assignment using an inplace method.\n",
            "The behavior will change in pandas 3.0. This inplace method will never work because the intermediate object on which we are setting values always behaves as a copy.\n",
            "\n",
            "For example, when doing 'df[col].method(value, inplace=True)', try using 'df.method({col: value}, inplace=True)' or df[col] = df[col].method(value) instead, to perform the operation inplace on the original object.\n",
            "\n",
            "\n",
            "  df[col].fillna(df[col].mean(), inplace=True)\n",
            "/tmp/ipython-input-476414304.py:9: FutureWarning: A value is trying to be set on a copy of a DataFrame or Series through chained assignment using an inplace method.\n",
            "The behavior will change in pandas 3.0. This inplace method will never work because the intermediate object on which we are setting values always behaves as a copy.\n",
            "\n",
            "For example, when doing 'df[col].method(value, inplace=True)', try using 'df.method({col: value}, inplace=True)' or df[col] = df[col].method(value) instead, to perform the operation inplace on the original object.\n",
            "\n",
            "\n",
            "  df[col].fillna(df[col].mode()[0], inplace=True)\n"
          ]
        }
      ]
    },
    {
      "cell_type": "code",
      "metadata": {
        "colab": {
          "base_uri": "https://localhost:8080/",
          "height": 556
        },
        "id": "m0xuvJ6oXABl",
        "outputId": "39558a0d-1412-471f-af5c-5add8a29ee73"
      },
      "source": [
        "# Encode categorical variables using one-hot encoding\n",
        "categorical_cols = ['Weather', 'Traffic_Level', 'Time_of_Day', 'Vehicle_Type']\n",
        "df = pd.get_dummies(df, columns=categorical_cols, drop_first=True)\n",
        "\n",
        "# Display the first few rows of the DataFrame to see the encoded columns\n",
        "display(df.head().to_markdown(index=False, numalign=\"left\", stralign=\"left\"))\n",
        "\n",
        "# Display the DataFrame's information to see the new columns and data types\n",
        "display(df.info())"
      ],
      "execution_count": 7,
      "outputs": [
        {
          "output_type": "display_data",
          "data": {
            "text/plain": [
              "'| Order_ID   | Distance_km   | Preparation_Time_min   | Courier_Experience_yrs   | Delivery_Time_min   | Weather_Foggy   | Weather_Rainy   | Weather_Snowy   | Weather_Windy   | Traffic_Level_Low   | Traffic_Level_Medium   | Time_of_Day_Evening   | Time_of_Day_Morning   | Time_of_Day_Night   | Vehicle_Type_Car   | Vehicle_Type_Scooter   |\\n|:-----------|:--------------|:-----------------------|:-------------------------|:--------------------|:----------------|:----------------|:----------------|:----------------|:--------------------|:-----------------------|:----------------------|:----------------------|:--------------------|:-------------------|:-----------------------|\\n| 522        | 7.93          | 12                     | 1                        | 43                  | False           | False           | False           | True            | True                | False                  | False                 | False                 | False               | False              | True                   |\\n| 738        | 16.42         | 20                     | 2                        | 84                  | False           | False           | False           | False           | False               | True                   | True                  | False                 | False               | False              | False                  |\\n| 741        | 9.52          | 28                     | 1                        | 59                  | True            | False           | False           | False           | True                | False                  | False                 | False                 | True                | False              | True                   |\\n| 661        | 7.44          | 5                      | 1                        | 37                  | False           | True            | False           | False           | False               | True                   | False                 | False                 | False               | False              | True                   |\\n| 412        | 19.03         | 16                     | 5                        | 68                  | False           | False           | False           | False           | True                | False                  | False                 | True                  | False               | False              | False                  |'"
            ],
            "application/vnd.google.colaboratory.intrinsic+json": {
              "type": "string"
            }
          },
          "metadata": {}
        },
        {
          "output_type": "stream",
          "name": "stdout",
          "text": [
            "<class 'pandas.core.frame.DataFrame'>\n",
            "RangeIndex: 1000 entries, 0 to 999\n",
            "Data columns (total 16 columns):\n",
            " #   Column                  Non-Null Count  Dtype  \n",
            "---  ------                  --------------  -----  \n",
            " 0   Order_ID                1000 non-null   int64  \n",
            " 1   Distance_km             1000 non-null   float64\n",
            " 2   Preparation_Time_min    1000 non-null   int64  \n",
            " 3   Courier_Experience_yrs  1000 non-null   float64\n",
            " 4   Delivery_Time_min       1000 non-null   int64  \n",
            " 5   Weather_Foggy           1000 non-null   bool   \n",
            " 6   Weather_Rainy           1000 non-null   bool   \n",
            " 7   Weather_Snowy           1000 non-null   bool   \n",
            " 8   Weather_Windy           1000 non-null   bool   \n",
            " 9   Traffic_Level_Low       1000 non-null   bool   \n",
            " 10  Traffic_Level_Medium    1000 non-null   bool   \n",
            " 11  Time_of_Day_Evening     1000 non-null   bool   \n",
            " 12  Time_of_Day_Morning     1000 non-null   bool   \n",
            " 13  Time_of_Day_Night       1000 non-null   bool   \n",
            " 14  Vehicle_Type_Car        1000 non-null   bool   \n",
            " 15  Vehicle_Type_Scooter    1000 non-null   bool   \n",
            "dtypes: bool(11), float64(2), int64(3)\n",
            "memory usage: 49.9 KB\n"
          ]
        },
        {
          "output_type": "display_data",
          "data": {
            "text/plain": [
              "None"
            ]
          },
          "metadata": {}
        }
      ]
    },
    {
      "cell_type": "code",
      "metadata": {
        "colab": {
          "base_uri": "https://localhost:8080/",
          "height": 140
        },
        "id": "2ab600c9",
        "outputId": "bb28f685-536e-44d0-e8b5-41be16e0ba38"
      },
      "source": [
        "from sklearn.preprocessing import StandardScaler\n",
        "\n",
        "# Scale numerical features\n",
        "numerical_cols = ['Distance_km', 'Preparation_Time_min', 'Courier_Experience_yrs']\n",
        "scaler = StandardScaler()\n",
        "df[numerical_cols] = scaler.fit_transform(df[numerical_cols])\n",
        "\n",
        "# Display the first few rows of the DataFrame to see the scaled columns\n",
        "display(df.head().to_markdown(index=False, numalign=\"left\", stralign=\"left\"))"
      ],
      "execution_count": 9,
      "outputs": [
        {
          "output_type": "display_data",
          "data": {
            "text/plain": [
              "'| Order_ID   | Distance_km   | Preparation_Time_min   | Courier_Experience_yrs   | Delivery_Time_min   | Weather_Foggy   | Weather_Rainy   | Weather_Snowy   | Weather_Windy   | Traffic_Level_Low   | Traffic_Level_Medium   | Time_of_Day_Evening   | Time_of_Day_Morning   | Time_of_Day_Night   | Vehicle_Type_Car   | Vehicle_Type_Scooter   |\\n|:-----------|:--------------|:-----------------------|:-------------------------|:--------------------|:----------------|:----------------|:----------------|:----------------|:--------------------|:-----------------------|:----------------------|:----------------------|:--------------------|:-------------------|:-----------------------|\\n| 522        | -0.374085     | -0.691853              | -1.24766                 | 43                  | False           | False           | False           | True            | True                | False                  | False                 | False                 | False               | False              | True                   |\\n| 738        | 1.11701       | 0.419111               | -0.899095                | 84                  | False           | False           | False           | False           | False               | True                   | True                  | False                 | False               | False              | False                  |\\n| 741        | -0.0948346    | 1.53008                | -1.24766                 | 59                  | True            | False           | False           | False           | True                | False                  | False                 | False                 | True                | False              | True                   |\\n| 661        | -0.460144     | -1.66395               | -1.24766                 | 37                  | False           | True            | False           | False           | False               | True                   | False                 | False                 | False               | False              | True                   |\\n| 412        | 1.5754        | -0.136371              | 0.146615                 | 68                  | False           | False           | False           | False           | True                | False                  | False                 | True                  | False               | False              | False                  |'"
            ],
            "application/vnd.google.colaboratory.intrinsic+json": {
              "type": "string"
            }
          },
          "metadata": {}
        }
      ]
    },
    {
      "cell_type": "code",
      "metadata": {
        "colab": {
          "base_uri": "https://localhost:8080/",
          "height": 547
        },
        "id": "986e3f34",
        "outputId": "21f72d94-7a62-4b3d-97c0-b18f84bd1089"
      },
      "source": [
        "# Create total estimated time feature\n",
        "df['Total_Estimated_Time'] = df['Preparation_Time_min'] + df['Distance_km']\n",
        "\n",
        "# Create peak hours feature\n",
        "df['Peak_Hours'] = df['Time_of_Day_Evening'] | df['Time_of_Day_Night']\n",
        "\n",
        "# Create interaction between weather and distance feature\n",
        "df['Weather_Distance_Interaction'] = df['Distance_km'] * df['Weather_Bad']\n",
        "\n",
        "# Display the first few rows of the DataFrame with new features\n",
        "display(df.head().to_markdown(index=False, numalign=\"left\", stralign=\"left\"))"
      ],
      "execution_count": 23,
      "outputs": [
        {
          "output_type": "error",
          "ename": "KeyError",
          "evalue": "'Weather_Bad'",
          "traceback": [
            "\u001b[0;31m---------------------------------------------------------------------------\u001b[0m",
            "\u001b[0;31mKeyError\u001b[0m                                  Traceback (most recent call last)",
            "\u001b[0;32m/usr/local/lib/python3.12/dist-packages/pandas/core/indexes/base.py\u001b[0m in \u001b[0;36mget_loc\u001b[0;34m(self, key)\u001b[0m\n\u001b[1;32m   3804\u001b[0m         \u001b[0;32mtry\u001b[0m\u001b[0;34m:\u001b[0m\u001b[0;34m\u001b[0m\u001b[0;34m\u001b[0m\u001b[0m\n\u001b[0;32m-> 3805\u001b[0;31m             \u001b[0;32mreturn\u001b[0m \u001b[0mself\u001b[0m\u001b[0;34m.\u001b[0m\u001b[0m_engine\u001b[0m\u001b[0;34m.\u001b[0m\u001b[0mget_loc\u001b[0m\u001b[0;34m(\u001b[0m\u001b[0mcasted_key\u001b[0m\u001b[0;34m)\u001b[0m\u001b[0;34m\u001b[0m\u001b[0;34m\u001b[0m\u001b[0m\n\u001b[0m\u001b[1;32m   3806\u001b[0m         \u001b[0;32mexcept\u001b[0m \u001b[0mKeyError\u001b[0m \u001b[0;32mas\u001b[0m \u001b[0merr\u001b[0m\u001b[0;34m:\u001b[0m\u001b[0;34m\u001b[0m\u001b[0;34m\u001b[0m\u001b[0m\n",
            "\u001b[0;32mindex.pyx\u001b[0m in \u001b[0;36mpandas._libs.index.IndexEngine.get_loc\u001b[0;34m()\u001b[0m\n",
            "\u001b[0;32mindex.pyx\u001b[0m in \u001b[0;36mpandas._libs.index.IndexEngine.get_loc\u001b[0;34m()\u001b[0m\n",
            "\u001b[0;32mpandas/_libs/hashtable_class_helper.pxi\u001b[0m in \u001b[0;36mpandas._libs.hashtable.PyObjectHashTable.get_item\u001b[0;34m()\u001b[0m\n",
            "\u001b[0;32mpandas/_libs/hashtable_class_helper.pxi\u001b[0m in \u001b[0;36mpandas._libs.hashtable.PyObjectHashTable.get_item\u001b[0;34m()\u001b[0m\n",
            "\u001b[0;31mKeyError\u001b[0m: 'Weather_Bad'",
            "\nThe above exception was the direct cause of the following exception:\n",
            "\u001b[0;31mKeyError\u001b[0m                                  Traceback (most recent call last)",
            "\u001b[0;32m/tmp/ipython-input-4273369212.py\u001b[0m in \u001b[0;36m<cell line: 0>\u001b[0;34m()\u001b[0m\n\u001b[1;32m      6\u001b[0m \u001b[0;34m\u001b[0m\u001b[0m\n\u001b[1;32m      7\u001b[0m \u001b[0;31m# Create interaction between weather and distance feature\u001b[0m\u001b[0;34m\u001b[0m\u001b[0;34m\u001b[0m\u001b[0m\n\u001b[0;32m----> 8\u001b[0;31m \u001b[0mdf\u001b[0m\u001b[0;34m[\u001b[0m\u001b[0;34m'Weather_Distance_Interaction'\u001b[0m\u001b[0;34m]\u001b[0m \u001b[0;34m=\u001b[0m \u001b[0mdf\u001b[0m\u001b[0;34m[\u001b[0m\u001b[0;34m'Distance_km'\u001b[0m\u001b[0;34m]\u001b[0m \u001b[0;34m*\u001b[0m \u001b[0mdf\u001b[0m\u001b[0;34m[\u001b[0m\u001b[0;34m'Weather_Bad'\u001b[0m\u001b[0;34m]\u001b[0m\u001b[0;34m\u001b[0m\u001b[0;34m\u001b[0m\u001b[0m\n\u001b[0m\u001b[1;32m      9\u001b[0m \u001b[0;34m\u001b[0m\u001b[0m\n\u001b[1;32m     10\u001b[0m \u001b[0;31m# Display the first few rows of the DataFrame with new features\u001b[0m\u001b[0;34m\u001b[0m\u001b[0;34m\u001b[0m\u001b[0m\n",
            "\u001b[0;32m/usr/local/lib/python3.12/dist-packages/pandas/core/frame.py\u001b[0m in \u001b[0;36m__getitem__\u001b[0;34m(self, key)\u001b[0m\n\u001b[1;32m   4100\u001b[0m             \u001b[0;32mif\u001b[0m \u001b[0mself\u001b[0m\u001b[0;34m.\u001b[0m\u001b[0mcolumns\u001b[0m\u001b[0;34m.\u001b[0m\u001b[0mnlevels\u001b[0m \u001b[0;34m>\u001b[0m \u001b[0;36m1\u001b[0m\u001b[0;34m:\u001b[0m\u001b[0;34m\u001b[0m\u001b[0;34m\u001b[0m\u001b[0m\n\u001b[1;32m   4101\u001b[0m                 \u001b[0;32mreturn\u001b[0m \u001b[0mself\u001b[0m\u001b[0;34m.\u001b[0m\u001b[0m_getitem_multilevel\u001b[0m\u001b[0;34m(\u001b[0m\u001b[0mkey\u001b[0m\u001b[0;34m)\u001b[0m\u001b[0;34m\u001b[0m\u001b[0;34m\u001b[0m\u001b[0m\n\u001b[0;32m-> 4102\u001b[0;31m             \u001b[0mindexer\u001b[0m \u001b[0;34m=\u001b[0m \u001b[0mself\u001b[0m\u001b[0;34m.\u001b[0m\u001b[0mcolumns\u001b[0m\u001b[0;34m.\u001b[0m\u001b[0mget_loc\u001b[0m\u001b[0;34m(\u001b[0m\u001b[0mkey\u001b[0m\u001b[0;34m)\u001b[0m\u001b[0;34m\u001b[0m\u001b[0;34m\u001b[0m\u001b[0m\n\u001b[0m\u001b[1;32m   4103\u001b[0m             \u001b[0;32mif\u001b[0m \u001b[0mis_integer\u001b[0m\u001b[0;34m(\u001b[0m\u001b[0mindexer\u001b[0m\u001b[0;34m)\u001b[0m\u001b[0;34m:\u001b[0m\u001b[0;34m\u001b[0m\u001b[0;34m\u001b[0m\u001b[0m\n\u001b[1;32m   4104\u001b[0m                 \u001b[0mindexer\u001b[0m \u001b[0;34m=\u001b[0m \u001b[0;34m[\u001b[0m\u001b[0mindexer\u001b[0m\u001b[0;34m]\u001b[0m\u001b[0;34m\u001b[0m\u001b[0;34m\u001b[0m\u001b[0m\n",
            "\u001b[0;32m/usr/local/lib/python3.12/dist-packages/pandas/core/indexes/base.py\u001b[0m in \u001b[0;36mget_loc\u001b[0;34m(self, key)\u001b[0m\n\u001b[1;32m   3810\u001b[0m             ):\n\u001b[1;32m   3811\u001b[0m                 \u001b[0;32mraise\u001b[0m \u001b[0mInvalidIndexError\u001b[0m\u001b[0;34m(\u001b[0m\u001b[0mkey\u001b[0m\u001b[0;34m)\u001b[0m\u001b[0;34m\u001b[0m\u001b[0;34m\u001b[0m\u001b[0m\n\u001b[0;32m-> 3812\u001b[0;31m             \u001b[0;32mraise\u001b[0m \u001b[0mKeyError\u001b[0m\u001b[0;34m(\u001b[0m\u001b[0mkey\u001b[0m\u001b[0;34m)\u001b[0m \u001b[0;32mfrom\u001b[0m \u001b[0merr\u001b[0m\u001b[0;34m\u001b[0m\u001b[0;34m\u001b[0m\u001b[0m\n\u001b[0m\u001b[1;32m   3813\u001b[0m         \u001b[0;32mexcept\u001b[0m \u001b[0mTypeError\u001b[0m\u001b[0;34m:\u001b[0m\u001b[0;34m\u001b[0m\u001b[0;34m\u001b[0m\u001b[0m\n\u001b[1;32m   3814\u001b[0m             \u001b[0;31m# If we have a listlike key, _check_indexing_error will raise\u001b[0m\u001b[0;34m\u001b[0m\u001b[0;34m\u001b[0m\u001b[0m\n",
            "\u001b[0;31mKeyError\u001b[0m: 'Weather_Bad'"
          ]
        }
      ]
    },
    {
      "cell_type": "markdown",
      "metadata": {
        "id": "c6bee6df"
      },
      "source": [
        "**Reasoning**:\n",
        "The previous attempt failed because the column 'Weather_Bad' does not exist. I need to check the available columns after one-hot encoding and use the correct column name for bad weather.\n",
        "\n"
      ]
    },
    {
      "cell_type": "code",
      "metadata": {
        "colab": {
          "base_uri": "https://localhost:8080/"
        },
        "id": "ihbIXUeCXHfk",
        "outputId": "7c51893a-e626-40cc-e251-5eab055f76e7"
      },
      "source": [
        "# Check the available columns after one-hot encoding\n",
        "print(df.columns)"
      ],
      "execution_count": 15,
      "outputs": [
        {
          "output_type": "stream",
          "name": "stdout",
          "text": [
            "Index(['Order_ID', 'Distance_km', 'Preparation_Time_min',\n",
            "       'Courier_Experience_yrs', 'Delivery_Time_min', 'Weather_Foggy',\n",
            "       'Weather_Rainy', 'Weather_Snowy', 'Weather_Windy', 'Traffic_Level_Low',\n",
            "       'Traffic_Level_Medium', 'Time_of_Day_Evening', 'Time_of_Day_Morning',\n",
            "       'Time_of_Day_Night', 'Vehicle_Type_Car', 'Vehicle_Type_Scooter',\n",
            "       'Total_Estimated_Time', 'Peak_Hours', 'Bad_Weather',\n",
            "       'Weather_Distance_Interaction'],\n",
            "      dtype='object')\n"
          ]
        }
      ]
    },
    {
      "cell_type": "code",
      "metadata": {
        "colab": {
          "base_uri": "https://localhost:8080/",
          "height": 140
        },
        "id": "1f84b1c5",
        "outputId": "60e05f93-e118-4de1-9ab7-7cdc08eeca64"
      },
      "source": [
        "# Create total estimated time feature\n",
        "df['Total_Estimated_Time'] = df['Preparation_Time_min'] + df['Distance_km']\n",
        "\n",
        "# Create peak hours feature (Evening or Night)\n",
        "df['Peak_Hours'] = df['Time_of_Day_Evening'] | df['Time_of_Day_Night']\n",
        "\n",
        "# Create a combined 'Bad_Weather' column\n",
        "df['Bad_Weather'] = df['Weather_Foggy'] | df['Weather_Rainy'] | df['Weather_Snowy'] | df['Weather_Windy']\n",
        "\n",
        "# Create interaction between bad weather and distance feature\n",
        "df['Weather_Distance_Interaction'] = df['Distance_km'] * df['Bad_Weather']\n",
        "\n",
        "# Display the first few rows of the DataFrame with new features\n",
        "display(df.head().to_markdown(index=False, numalign=\"left\", stralign=\"left\"))"
      ],
      "execution_count": 16,
      "outputs": [
        {
          "output_type": "display_data",
          "data": {
            "text/plain": [
              "'| Order_ID   | Distance_km   | Preparation_Time_min   | Courier_Experience_yrs   | Delivery_Time_min   | Weather_Foggy   | Weather_Rainy   | Weather_Snowy   | Weather_Windy   | Traffic_Level_Low   | Traffic_Level_Medium   | Time_of_Day_Evening   | Time_of_Day_Morning   | Time_of_Day_Night   | Vehicle_Type_Car   | Vehicle_Type_Scooter   | Total_Estimated_Time   | Peak_Hours   | Bad_Weather   | Weather_Distance_Interaction   |\\n|:-----------|:--------------|:-----------------------|:-------------------------|:--------------------|:----------------|:----------------|:----------------|:----------------|:--------------------|:-----------------------|:----------------------|:----------------------|:--------------------|:-------------------|:-----------------------|:-----------------------|:-------------|:--------------|:-------------------------------|\\n| 522        | -0.374085     | -0.691853              | -1.24766                 | 43                  | False           | False           | False           | True            | True                | False                  | False                 | False                 | False               | False              | True                   | -1.06594               | False        | True          | -0.374085                      |\\n| 738        | 1.11701       | 0.419111               | -0.899095                | 84                  | False           | False           | False           | False           | False               | True                   | True                  | False                 | False               | False              | False                  | 1.53612                | True         | False         | 0                              |\\n| 741        | -0.0948346    | 1.53008                | -1.24766                 | 59                  | True            | False           | False           | False           | True                | False                  | False                 | False                 | True                | False              | True                   | 1.43524                | True         | True          | -0.0948346                     |\\n| 661        | -0.460144     | -1.66395               | -1.24766                 | 37                  | False           | True            | False           | False           | False               | True                   | False                 | False                 | False               | False              | True                   | -2.12409               | False        | True          | -0.460144                      |\\n| 412        | 1.5754        | -0.136371              | 0.146615                 | 68                  | False           | False           | False           | False           | True                | False                  | False                 | True                  | False               | False              | False                  | 1.43903                | False        | False         | 0                              |'"
            ],
            "application/vnd.google.colaboratory.intrinsic+json": {
              "type": "string"
            }
          },
          "metadata": {}
        }
      ]
    },
    {
      "cell_type": "code",
      "metadata": {
        "colab": {
          "base_uri": "https://localhost:8080/"
        },
        "id": "bb53b774",
        "outputId": "afc8bddb-9dba-4a40-a0b3-81f94c4fe447"
      },
      "source": [
        "# Suitable regression algorithms from scikit-learn:\n",
        "\n",
        "# 1. Linear Regression: Simple, interpretable, good baseline.\n",
        "# 2. Ridge/Lasso Regression: Regularized linear models, good for preventing overfitting.\n",
        "# 3. Decision Tree Regressor: Non-linear relationships, easy to understand.\n",
        "# 4. Random Forest Regressor: Ensemble method, robust, handles non-linearities well.\n",
        "# 5. Gradient Boosting Regressors (e.g., Gradient Boosting, XGBoost, LightGBM): Powerful ensemble methods, often provide high accuracy.\n",
        "# 6. Support Vector Regressor (SVR): Can capture complex relationships, works well with high-dimensional data.\n",
        "\n",
        "# Justification for Random Forest Regressor:\n",
        "# Random Forest Regressor is a suitable choice for predicting delivery times due to several reasons:\n",
        "# - It can capture non-linear relationships between features and the target variable (delivery time).\n",
        "# - It is less prone to overfitting compared to individual decision trees.\n",
        "# - It can handle both numerical and categorical features (after encoding).\n",
        "# - It provides feature importance, which can be useful for understanding which factors most influence delivery time.\n",
        "# - It is relatively robust to outliers.\n",
        "\n",
        "# Alternative models:\n",
        "# - Gradient Boosting Regressor (e.g., XGBoost): Often provides high accuracy and is a strong alternative to Random Forest.\n",
        "# - Linear Regression: A good baseline model for interpretability and quick implementation.\n",
        "# - Support Vector Regressor: Can be effective for complex relationships, but can be computationally more expensive.\n",
        "\n",
        "print(\"Suitable regression algorithms:\")\n",
        "print(\"- Linear Regression\")\n",
        "print(\"- Ridge/Lasso Regression\")\n",
        "print(\"- Decision Tree Regressor\")\n",
        "print(\"- Random Forest Regressor\")\n",
        "print(\"- Gradient Boosting Regressors (e.g., Gradient Boosting, XGBoost, LightGBM)\")\n",
        "print(\"- Support Vector Regressor (SVR)\")\n",
        "\n",
        "print(\"\\nJustification for Random Forest Regressor:\")\n",
        "print(\"Random Forest Regressor is a suitable choice because it can capture non-linear relationships, is less prone to overfitting, handles various feature types, provides feature importance, and is robust to outliers.\")\n",
        "\n",
        "print(\"\\nAlternative models:\")\n",
        "print(\"- Gradient Boosting Regressor (e.g., XGBoost)\")\n",
        "print(\"- Linear Regression\")\n",
        "print(\"- Support Vector Regressor\")"
      ],
      "execution_count": 13,
      "outputs": [
        {
          "output_type": "stream",
          "name": "stdout",
          "text": [
            "Suitable regression algorithms:\n",
            "- Linear Regression\n",
            "- Ridge/Lasso Regression\n",
            "- Decision Tree Regressor\n",
            "- Random Forest Regressor\n",
            "- Gradient Boosting Regressors (e.g., Gradient Boosting, XGBoost, LightGBM)\n",
            "- Support Vector Regressor (SVR)\n",
            "\n",
            "Justification for Random Forest Regressor:\n",
            "Random Forest Regressor is a suitable choice because it can capture non-linear relationships, is less prone to overfitting, handles various feature types, provides feature importance, and is robust to outliers.\n",
            "\n",
            "Alternative models:\n",
            "- Gradient Boosting Regressor (e.g., XGBoost)\n",
            "- Linear Regression\n",
            "- Support Vector Regressor\n"
          ]
        }
      ]
    },
    {
      "cell_type": "code",
      "metadata": {
        "colab": {
          "base_uri": "https://localhost:8080/"
        },
        "id": "bbfc7059",
        "outputId": "f836e0f7-c3a7-45b9-fa4d-ce2540d20fc5"
      },
      "source": [
        "from sklearn.model_selection import train_test_split\n",
        "from sklearn.ensemble import RandomForestRegressor\n",
        "\n",
        "# Define features (X) and target variable (y)\n",
        "X = df.drop('Delivery_Time_min', axis=1)\n",
        "y = df['Delivery_Time_min']\n",
        "\n",
        "# Split the data into training and testing sets\n",
        "X_train, X_test, y_train, y_test = train_test_split(X, y, test_size=0.2, random_state=42)\n",
        "\n",
        "# Instantiate and train the Random Forest Regressor model\n",
        "model = RandomForestRegressor(random_state=42)\n",
        "model.fit(X_train, y_train)\n",
        "\n",
        "print(\"Data split into training and testing sets.\")\n",
        "print(\"Random Forest Regressor model trained successfully.\")"
      ],
      "execution_count": 17,
      "outputs": [
        {
          "output_type": "stream",
          "name": "stdout",
          "text": [
            "Data split into training and testing sets.\n",
            "Random Forest Regressor model trained successfully.\n"
          ]
        }
      ]
    },
    {
      "cell_type": "code",
      "metadata": {
        "colab": {
          "base_uri": "https://localhost:8080/"
        },
        "id": "eb16a44b",
        "outputId": "7e158c82-7dec-459b-ac36-aff46d791225"
      },
      "source": [
        "from sklearn.metrics import mean_absolute_error, mean_squared_error, r2_score\n",
        "\n",
        "# Make predictions on the test set\n",
        "y_pred = model.predict(X_test)\n",
        "\n",
        "# Calculate evaluation metrics\n",
        "mae = mean_absolute_error(y_test, y_pred)\n",
        "mse = mean_squared_error(y_test, y_pred)\n",
        "r2 = r2_score(y_test, y_pred)\n",
        "\n",
        "# Print the evaluation metrics\n",
        "print(f\"Mean Absolute Error (MAE): {mae}\")\n",
        "print(f\"Mean Squared Error (MSE): {mse}\")\n",
        "print(f\"R-squared (R2): {r2}\")"
      ],
      "execution_count": 18,
      "outputs": [
        {
          "output_type": "stream",
          "name": "stdout",
          "text": [
            "Mean Absolute Error (MAE): 7.493399999999999\n",
            "Mean Squared Error (MSE): 117.305655\n",
            "R-squared (R2): 0.7382896132032215\n"
          ]
        }
      ]
    },
    {
      "cell_type": "code",
      "metadata": {
        "colab": {
          "base_uri": "https://localhost:8080/"
        },
        "id": "d5f04fbd",
        "outputId": "6db14f08-9adc-412a-f4e8-918dadef5e70"
      },
      "source": [
        "from sklearn.model_selection import GridSearchCV\n",
        "from sklearn.ensemble import GradientBoostingRegressor\n",
        "\n",
        "# Hyperparameter tuning for Random Forest Regressor using GridSearchCV\n",
        "param_grid = {\n",
        "    'n_estimators': [100, 200, 300],\n",
        "    'max_depth': [10, 20, 30],\n",
        "    'min_samples_split': [2, 5, 10],\n",
        "    'min_samples_leaf': [1, 2, 4]\n",
        "}\n",
        "\n",
        "grid_search = GridSearchCV(estimator=RandomForestRegressor(random_state=42),\n",
        "                           param_grid=param_grid, cv=3, n_jobs=-1, scoring='neg_mean_squared_error')\n",
        "\n",
        "grid_search.fit(X_train, y_train)\n",
        "\n",
        "best_rf_model = grid_search.best_estimator_\n",
        "print(\"Best Random Forest Regressor parameters:\", grid_search.best_params_)\n",
        "\n",
        "# Train a Gradient Boosting Regressor model\n",
        "gbr_model = GradientBoostingRegressor(random_state=42)\n",
        "gbr_model.fit(X_train, y_train)\n",
        "\n",
        "print(\"Gradient Boosting Regressor model trained successfully.\")"
      ],
      "execution_count": 19,
      "outputs": [
        {
          "output_type": "stream",
          "name": "stdout",
          "text": [
            "Best Random Forest Regressor parameters: {'max_depth': 20, 'min_samples_leaf': 4, 'min_samples_split': 2, 'n_estimators': 200}\n",
            "Gradient Boosting Regressor model trained successfully.\n"
          ]
        }
      ]
    },
    {
      "cell_type": "code",
      "metadata": {
        "colab": {
          "base_uri": "https://localhost:8080/"
        },
        "id": "4c5fabfc",
        "outputId": "4c09c35a-20b7-4e5e-fafc-904f1985fbda"
      },
      "source": [
        "from sklearn.metrics import mean_absolute_error, mean_squared_error, r2_score\n",
        "\n",
        "# Evaluate the tuned Random Forest model\n",
        "y_pred_rf_tuned = best_rf_model.predict(X_test)\n",
        "mae_rf_tuned = mean_absolute_error(y_test, y_pred_rf_tuned)\n",
        "mse_rf_tuned = mean_squared_error(y_test, y_pred_rf_tuned)\n",
        "r2_rf_tuned = r2_score(y_test, y_pred_rf_tuned)\n",
        "\n",
        "print(\"Tuned Random Forest Regressor Performance:\")\n",
        "print(f\"  Mean Absolute Error (MAE): {mae_rf_tuned}\")\n",
        "print(f\"  Mean Squared Error (MSE): {mse_rf_tuned}\")\n",
        "print(f\"  R-squared (R2): {r2_rf_tuned}\")\n",
        "\n",
        "# Evaluate the Gradient Boosting model\n",
        "y_pred_gbr = gbr_model.predict(X_test)\n",
        "mae_gbr = mean_absolute_error(y_test, y_pred_gbr)\n",
        "mse_gbr = mean_squared_error(y_test, y_pred_gbr)\n",
        "r2_gbr = r2_score(y_test, y_pred_gbr)\n",
        "\n",
        "print(\"\\nGradient Boosting Regressor Performance:\")\n",
        "print(f\"  Mean Absolute Error (MAE): {mae_gbr}\")\n",
        "print(f\"  Mean Squared Error (MSE): {mse_gbr}\")\n",
        "print(f\"  R-squared (R2): {r2_gbr}\")\n",
        "\n",
        "# Compare performance\n",
        "print(\"\\nPerformance Comparison:\")\n",
        "print(f\"Original Random Forest - MAE: {mae}, MSE: {mse}, R2: {r2}\")\n",
        "print(f\"Tuned Random Forest - MAE: {mae_rf_tuned}, MSE: {mse_rf_tuned}, R2: {r2_rf_tuned}\")\n",
        "print(f\"Gradient Boosting - MAE: {mae_gbr}, MSE: {mse_gbr}, R2: {r2_gbr}\")\n",
        "\n",
        "# Select the best model based on R2 score (higher is better)\n",
        "best_model_name = \"\"\n",
        "if r2_rf_tuned > r2_gbr and r2_rf_tuned > r2:\n",
        "    best_model = best_rf_model\n",
        "    best_model_name = \"Tuned Random Forest\"\n",
        "elif r2_gbr > r2_rf_tuned and r2_gbr > r2:\n",
        "    best_model = gbr_model\n",
        "    best_model_name = \"Gradient Boosting\"\n",
        "else:\n",
        "    best_model = model # Original Random Forest\n",
        "    best_model_name = \"Original Random Forest\"\n",
        "\n",
        "print(f\"\\nSelected best model: {best_model_name}\")"
      ],
      "execution_count": 20,
      "outputs": [
        {
          "output_type": "stream",
          "name": "stdout",
          "text": [
            "Tuned Random Forest Regressor Performance:\n",
            "  Mean Absolute Error (MAE): 7.117104001906088\n",
            "  Mean Squared Error (MSE): 106.4197281037978\n",
            "  R-squared (R2): 0.7625762525698107\n",
            "\n",
            "Gradient Boosting Regressor Performance:\n",
            "  Mean Absolute Error (MAE): 6.654591674927388\n",
            "  Mean Squared Error (MSE): 97.63190603793034\n",
            "  R-squared (R2): 0.7821819937590094\n",
            "\n",
            "Performance Comparison:\n",
            "Original Random Forest - MAE: 7.493399999999999, MSE: 117.305655, R2: 0.7382896132032215\n",
            "Tuned Random Forest - MAE: 7.117104001906088, MSE: 106.4197281037978, R2: 0.7625762525698107\n",
            "Gradient Boosting - MAE: 6.654591674927388, MSE: 97.63190603793034, R2: 0.7821819937590094\n",
            "\n",
            "Selected best model: Gradient Boosting\n"
          ]
        }
      ]
    },
    {
      "cell_type": "code",
      "metadata": {
        "colab": {
          "base_uri": "https://localhost:8080/"
        },
        "id": "05a3219a",
        "outputId": "86dd50e8-dc85-4364-c197-8218727f72b9"
      },
      "source": [
        "# Make predictions on the test set using the best model (Gradient Boosting Regressor)\n",
        "y_pred_best_model = best_model.predict(X_test)\n",
        "\n",
        "# Display the first few predictions\n",
        "print(\"First 5 predictions from the best model:\")\n",
        "print(y_pred_best_model[:5])"
      ],
      "execution_count": 21,
      "outputs": [
        {
          "output_type": "stream",
          "name": "stdout",
          "text": [
            "First 5 predictions from the best model:\n",
            "[35.06457409 65.21591614 46.79661044 42.79201491 76.60003453]\n"
          ]
        }
      ]
    },
    {
      "cell_type": "code",
      "metadata": {
        "colab": {
          "base_uri": "https://localhost:8080/",
          "height": 564
        },
        "id": "7ce15274",
        "outputId": "d11e856f-9833-44fc-9a7e-50c06030c198"
      },
      "source": [
        "import matplotlib.pyplot as plt\n",
        "\n",
        "# Create a scatter plot of actual vs. predicted delivery times\n",
        "plt.figure(figsize=(10, 6))\n",
        "plt.scatter(y_test, y_pred_best_model, alpha=0.5)\n",
        "\n",
        "# Add labels and title\n",
        "plt.xlabel(\"Actual Delivery Time (min)\")\n",
        "plt.ylabel(\"Predicted Delivery Time (min)\")\n",
        "plt.title(\"Actual vs. Predicted Delivery Times\")\n",
        "\n",
        "# Add a diagonal line for perfect predictions\n",
        "plt.plot([y_test.min(), y_test.max()], [y_test.min(), y_test.max()], 'k--')\n",
        "\n",
        "# Display the plot\n",
        "plt.grid(True)\n",
        "plt.show()"
      ],
      "execution_count": 22,
      "outputs": [
        {
          "output_type": "display_data",
          "data": {
            "text/plain": [
              "<Figure size 1000x600 with 1 Axes>"
            ],
            "image/png": "[encoded data removed]"
          },
          "metadata": {}
        }
      ]
    }
  ]
}
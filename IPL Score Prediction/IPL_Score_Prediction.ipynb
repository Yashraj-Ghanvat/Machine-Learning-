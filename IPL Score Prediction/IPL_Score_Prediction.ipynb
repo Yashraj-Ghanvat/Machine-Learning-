{
  "nbformat": 4,
  "nbformat_minor": 0,
  "metadata": {
    "colab": {
      "provenance": []
    },
    "kernelspec": {
      "name": "python3",
      "display_name": "Python 3"
    },
    "language_info": {
      "name": "python"
    }
  },
  "cells": [
    {
      "cell_type": "code",
      "execution_count": null,
      "metadata": {
        "id": "nRD78C1awceA"
      },
      "outputs": [],
      "source": [
        "#Step 1: Import Required Libraries"
      ]
    },
    {
      "cell_type": "code",
      "source": [
        "#importing essential libraries\n",
        "import numpy as np\n",
        "import pandas as pd\n",
        "import matplotlib.pyplot as plt\n",
        "import seaborn as sns\n",
        "from sklearn.model_selection import train_test_split"
      ],
      "metadata": {
        "id": "BcPvWV9gw185"
      },
      "execution_count": null,
      "outputs": []
    },
    {
      "cell_type": "code",
      "source": [
        "# Step 2: Load Dataset"
      ],
      "metadata": {
        "id": "QlCHIsc8w6zd"
      },
      "execution_count": null,
      "outputs": []
    },
    {
      "cell_type": "code",
      "source": [
        "# Import necessary library\n",
        "import pandas as pd\n",
        "\n",
        "# Load the IPL dataset into a DataFrame\n",
        "df = pd.read_csv('IPL Data Set.csv')\n",
        "\n",
        "# Make sure the CSV file is in your working directory\n",
        "# Display confirmation\n",
        "print(\"Dataset loaded successfully.\")"
      ],
      "metadata": {
        "colab": {
          "base_uri": "https://localhost:8080/"
        },
        "id": "8jkKfnTRw6v-",
        "outputId": "7d5c8f49-adfd-4da9-e936-b28fa3b4cfd2"
      },
      "execution_count": null,
      "outputs": [
        {
          "output_type": "stream",
          "name": "stdout",
          "text": [
            "Dataset loaded successfully.\n"
          ]
        }
      ]
    },
    {
      "cell_type": "code",
      "source": [
        "# Step 3: Exploring the Dataset"
      ],
      "metadata": {
        "id": "pRIx-B70w6uL"
      },
      "execution_count": null,
      "outputs": []
    },
    {
      "cell_type": "code",
      "source": [
        "#Display the column names to understand the features available\n",
        "print(\"Column Names in the Dataset:\")\n",
        "print(df.columns)\n",
        "\n",
        "\n",
        "# Display the shape of the dataset (rows, columns)\n",
        "print(\"\\nShape of the Dataset (Rows, Columns):\")\n",
        "print(df.shape)\n",
        "\n",
        "\n",
        "# Display data types of each column to understand which are numeric or categorical\n",
        "print(\"\\nData Types of Each Column:\")\n",
        "print(df.dtypes)\n",
        "\n",
        "\n",
        "# Preview the first 5 rows of the dataset to get a basic idea of the structure and sample values\n",
        "print(\"\\nFirst 5 Rows of the Dataset:\")\n",
        "print(df.head())"
      ],
      "metadata": {
        "colab": {
          "base_uri": "https://localhost:8080/"
        },
        "id": "rk9HAf_Ow6rW",
        "outputId": "121203bf-8a51-40b2-b8a1-3c47f81f4ef3"
      },
      "execution_count": null,
      "outputs": [
        {
          "output_type": "stream",
          "name": "stdout",
          "text": [
            "Column Names in the Dataset:\n",
            "Index(['mid', 'date', 'venue', 'batting_team', 'bowling_team', 'batsman',\n",
            "       'bowler', 'runs', 'wickets', 'overs', 'runs_last_5', 'wickets_last_5',\n",
            "       'striker', 'non-striker', 'total'],\n",
            "      dtype='object')\n",
            "\n",
            "Shape of the Dataset (Rows, Columns):\n",
            "(76014, 15)\n",
            "\n",
            "Data Types of Each Column:\n",
            "mid                 int64\n",
            "date               object\n",
            "venue              object\n",
            "batting_team       object\n",
            "bowling_team       object\n",
            "batsman            object\n",
            "bowler             object\n",
            "runs                int64\n",
            "wickets             int64\n",
            "overs             float64\n",
            "runs_last_5         int64\n",
            "wickets_last_5      int64\n",
            "striker             int64\n",
            "non-striker         int64\n",
            "total               int64\n",
            "dtype: object\n",
            "\n",
            "First 5 Rows of the Dataset:\n",
            "   mid        date                  venue           batting_team  \\\n",
            "0    1  2008-04-18  M Chinnaswamy Stadium  Kolkata Knight Riders   \n",
            "1    1  2008-04-18  M Chinnaswamy Stadium  Kolkata Knight Riders   \n",
            "2    1  2008-04-18  M Chinnaswamy Stadium  Kolkata Knight Riders   \n",
            "3    1  2008-04-18  M Chinnaswamy Stadium  Kolkata Knight Riders   \n",
            "4    1  2008-04-18  M Chinnaswamy Stadium  Kolkata Knight Riders   \n",
            "\n",
            "                  bowling_team      batsman   bowler  runs  wickets  overs  \\\n",
            "0  Royal Challengers Bangalore   SC Ganguly  P Kumar     1        0    0.1   \n",
            "1  Royal Challengers Bangalore  BB McCullum  P Kumar     1        0    0.2   \n",
            "2  Royal Challengers Bangalore  BB McCullum  P Kumar     2        0    0.2   \n",
            "3  Royal Challengers Bangalore  BB McCullum  P Kumar     2        0    0.3   \n",
            "4  Royal Challengers Bangalore  BB McCullum  P Kumar     2        0    0.4   \n",
            "\n",
            "   runs_last_5  wickets_last_5  striker  non-striker  total  \n",
            "0            1               0        0            0    222  \n",
            "1            1               0        0            0    222  \n",
            "2            2               0        0            0    222  \n",
            "3            2               0        0            0    222  \n",
            "4            2               0        0            0    222  \n"
          ]
        }
      ]
    },
    {
      "cell_type": "code",
      "source": [
        "# Step 4: Data Cleaning"
      ],
      "metadata": {
        "id": "qRhwOGImw6pI"
      },
      "execution_count": null,
      "outputs": []
    },
    {
      "cell_type": "code",
      "source": [
        "# Check the current columns of the dataset\n",
        "df.columns\n",
        "\n",
        "\n",
        "# Define columns that are not useful for prediction and remove them\n",
        "columns_to_remove = ['mid', 'venue', 'batsman', 'bowler', 'striker', 'non-striker']\n",
        "print('Before removing unwanted columns: {}'.format(df.shape))\n",
        "df.drop(labels=columns_to_remove, axis=1, inplace=True)\n",
        "print('After removing unwanted columns: {}'.format(df.shape))\n",
        "\n",
        "\n",
        "# Check remaining columns and data sample\n",
        "df.columns\n",
        "df.head()\n",
        "df.index"
      ],
      "metadata": {
        "colab": {
          "base_uri": "https://localhost:8080/"
        },
        "id": "Mul-Lu4ww6mn",
        "outputId": "837a3484-e52d-4af1-ac20-d73d9a8ca9cb"
      },
      "execution_count": null,
      "outputs": [
        {
          "output_type": "stream",
          "name": "stdout",
          "text": [
            "Before removing unwanted columns: (76014, 15)\n",
            "After removing unwanted columns: (76014, 9)\n"
          ]
        },
        {
          "output_type": "execute_result",
          "data": {
            "text/plain": [
              "RangeIndex(start=0, stop=76014, step=1)"
            ]
          },
          "metadata": {},
          "execution_count": 9
        }
      ]
    },
    {
      "cell_type": "code",
      "source": [
        "# Check unique values in 'batting_team' column to see all participating teams\n",
        "df['batting_team'].unique()\n",
        "\n",
        "\n",
        "#  - Keeping Only Consistent Teams:\n",
        "# Define a list of teams that consistently played over multiple IPL seasons\n",
        "consistent_teams = [\n",
        "'Kolkata Knight Riders', 'Chennai Super Kings', 'Rajasthan Royals',\n",
        "'Mumbai Indians', 'Kings XI Punjab', 'Royal Challengers Bangalore',\n",
        "'Delhi Daredevils', 'Sunrisers Hyderabad'\n",
        "]"
      ],
      "metadata": {
        "id": "2vbH2zOLw6kO"
      },
      "execution_count": null,
      "outputs": []
    },
    {
      "cell_type": "code",
      "source": [
        "# Filter dataset to keep only matches between these consistent teams\n",
        "print('Before removing inconsistent teams: {}'.format(df.shape))\n",
        "df = df[(df['batting_team'].isin(consistent_teams)) &\n",
        "(df['bowling_team'].isin(consistent_teams))]\n",
        "print('After removing inconsistent teams: {}'.format(df.shape))"
      ],
      "metadata": {
        "colab": {
          "base_uri": "https://localhost:8080/"
        },
        "id": "NUA0heE4w6hn",
        "outputId": "fdaa2046-a136-48c4-a350-7af5db685a63"
      },
      "execution_count": null,
      "outputs": [
        {
          "output_type": "stream",
          "name": "stdout",
          "text": [
            "Before removing inconsistent teams: (76014, 9)\n",
            "After removing inconsistent teams: (53811, 9)\n"
          ]
        }
      ]
    },
    {
      "cell_type": "code",
      "source": [
        "# - Removing First 5 Overs of Data:\n",
        "# IPL is a 20-over match, and early overs can have less predictive impact for final scores\n",
        "# We'll remove data from the first 5 overs to focus on the more relevant middle and death overs\n",
        "print('Before removing first 5 overs data: {}'.format(df.shape))\n",
        "df = df[df['overs'] >= 5.0]\n",
        "print('After removing first 5 overs data: {}'.format(df.shape))"
      ],
      "metadata": {
        "colab": {
          "base_uri": "https://localhost:8080/"
        },
        "id": "nKgyz4Mgw6fO",
        "outputId": "c2fff34e-a7f8-4580-9515-631932db4fda"
      },
      "execution_count": null,
      "outputs": [
        {
          "output_type": "stream",
          "name": "stdout",
          "text": [
            "Before removing first 5 overs data: (53811, 9)\n",
            "After removing first 5 overs data: (40108, 9)\n"
          ]
        }
      ]
    },
    {
      "cell_type": "code",
      "source": [
        "# - Converting date Column to DateTime Format\n",
        "# Convert 'date' column from string to datetime format for proper handling\n",
        "from datetime import datetime\n",
        "print(\"Before converting 'date' column: {}\".format(type(df.iloc[0, 0])))\n",
        "df['date'] = df['date'].apply(lambda x: datetime.strptime(x, '%Y-%m-%d'))\n",
        "print(\"After converting 'date' column: {}\".format(type(df.iloc[0, 0])))"
      ],
      "metadata": {
        "colab": {
          "base_uri": "https://localhost:8080/"
        },
        "id": "5dgUJg9zz3sr",
        "outputId": "9e647029-b96b-442e-b490-275a65f32fff"
      },
      "execution_count": null,
      "outputs": [
        {
          "output_type": "stream",
          "name": "stdout",
          "text": [
            "Before converting 'date' column: <class 'str'>\n",
            "After converting 'date' column: <class 'pandas._libs.tslibs.timestamps.Timestamp'>\n"
          ]
        }
      ]
    },
    {
      "cell_type": "code",
      "source": [
        "# - Correlation Analysis\n",
        "# Correlation matrix to understand relationships between numerical variables\n",
        "corr_matrix = df.select_dtypes(include=['number']).corr()\n",
        "top_corr_features = corr_matrix.index  # Get list of numeric feature names"
      ],
      "metadata": {
        "id": "JBDsW7hZ0CWK"
      },
      "execution_count": null,
      "outputs": []
    },
    {
      "cell_type": "code",
      "source": [
        "# Plotting heatmap of correlation matrix\n",
        "plt.figure(figsize=(13, 10))\n",
        "g = sns.heatmap(data=df[top_corr_features].corr(), annot=True, cmap='RdYlGn')\n",
        "plt.title('Feature Correlation Heatmap')\n",
        "plt.show()"
      ],
      "metadata": {
        "colab": {
          "base_uri": "https://localhost:8080/",
          "height": 853
        },
        "id": "dVzYs6m90CSk",
        "outputId": "5606511f-3aa2-4192-c4dc-308b4bdc0371"
      },
      "execution_count": null,
      "outputs": [
        {
          "output_type": "display_data",
          "data": {
            "text/plain": [
              "<Figure size 1300x1000 with 2 Axes>"
            ],
            "image/png": "[encoded data removed]"
          },
          "metadata": {}
        }
      ]
    },
    {
      "cell_type": "code",
      "source": [
        "# Step 4: Data Preprocessing:"
      ],
      "metadata": {
        "id": "03NxWZXZ0CQa"
      },
      "execution_count": null,
      "outputs": []
    },
    {
      "cell_type": "code",
      "source": [
        "# Before training any model, the dataset is cleaned and prepared.\n",
        "\n",
        "# a. One-Hot Encoding (OHE) of Categorical Variables\n",
        "# Categorical columns like 'batting_team' and 'bowling_team' cannot be used directly in machine learning models.\n",
        "# One-Hot Encoding converts these categorical columns into binary (0 or 1) format, creating a new column for each category.\n",
        "encoded_df = pd.get_dummies(data=df, columns=['batting_team', 'bowling_team'])\n",
        "\n",
        "# View the new columns after encoding\n",
        "# Each unique team now has its own column indicating its presence (1) or absence (0) in each row\n",
        "encoded_df.columns\n",
        "\n",
        "# Display the top rows of the newly encoded dataframe\n",
        "encoded_df.head()"
      ],
      "metadata": {
        "colab": {
          "base_uri": "https://localhost:8080/",
          "height": 377
        },
        "id": "lCAsNNCh0NrD",
        "outputId": "bbdd35c4-32a4-4a6d-da54-7ef0bb7374b6"
      },
      "execution_count": null,
      "outputs": [
        {
          "output_type": "execute_result",
          "data": {
            "text/plain": [
              "         date  runs  wickets  overs  runs_last_5  wickets_last_5  total  \\\n",
              "32 2008-04-18    61        0    5.1           59               0    222   \n",
              "33 2008-04-18    61        1    5.2           59               1    222   \n",
              "34 2008-04-18    61        1    5.3           59               1    222   \n",
              "35 2008-04-18    61        1    5.4           59               1    222   \n",
              "36 2008-04-18    61        1    5.5           58               1    222   \n",
              "\n",
              "    batting_team_Chennai Super Kings  batting_team_Delhi Daredevils  \\\n",
              "32                             False                          False   \n",
              "33                             False                          False   \n",
              "34                             False                          False   \n",
              "35                             False                          False   \n",
              "36                             False                          False   \n",
              "\n",
              "    batting_team_Kings XI Punjab  ...  \\\n",
              "32                         False  ...   \n",
              "33                         False  ...   \n",
              "34                         False  ...   \n",
              "35                         False  ...   \n",
              "36                         False  ...   \n",
              "\n",
              "    batting_team_Royal Challengers Bangalore  \\\n",
              "32                                     False   \n",
              "33                                     False   \n",
              "34                                     False   \n",
              "35                                     False   \n",
              "36                                     False   \n",
              "\n",
              "    batting_team_Sunrisers Hyderabad  bowling_team_Chennai Super Kings  \\\n",
              "32                             False                             False   \n",
              "33                             False                             False   \n",
              "34                             False                             False   \n",
              "35                             False                             False   \n",
              "36                             False                             False   \n",
              "\n",
              "    bowling_team_Delhi Daredevils  bowling_team_Kings XI Punjab  \\\n",
              "32                          False                         False   \n",
              "33                          False                         False   \n",
              "34                          False                         False   \n",
              "35                          False                         False   \n",
              "36                          False                         False   \n",
              "\n",
              "    bowling_team_Kolkata Knight Riders  bowling_team_Mumbai Indians  \\\n",
              "32                               False                        False   \n",
              "33                               False                        False   \n",
              "34                               False                        False   \n",
              "35                               False                        False   \n",
              "36                               False                        False   \n",
              "\n",
              "    bowling_team_Rajasthan Royals  bowling_team_Royal Challengers Bangalore  \\\n",
              "32                          False                                      True   \n",
              "33                          False                                      True   \n",
              "34                          False                                      True   \n",
              "35                          False                                      True   \n",
              "36                          False                                      True   \n",
              "\n",
              "    bowling_team_Sunrisers Hyderabad  \n",
              "32                             False  \n",
              "33                             False  \n",
              "34                             False  \n",
              "35                             False  \n",
              "36                             False  \n",
              "\n",
              "[5 rows x 23 columns]"
            ],
            "text/html": [
              "\n",
              "  <div id=\"df-c6a839c0-42c4-4a18-972e-ac55fec7b921\" class=\"colab-df-container\">\n",
              "    <div>\n",
              "<style scoped>\n",
              "    .dataframe tbody tr th:only-of-type {\n",
              "        vertical-align: middle;\n",
              "    }\n",
              "\n",
              "    .dataframe tbody tr th {\n",
              "        vertical-align: top;\n",
              "    }\n",
              "\n",
              "    .dataframe thead th {\n",
              "        text-align: right;\n",
              "    }\n",
              "</style>\n",
              "<table border=\"1\" class=\"dataframe\">\n",
              "  <thead>\n",
              "    <tr style=\"text-align: right;\">\n",
              "      <th></th>\n",
              "      <th>date</th>\n",
              "      <th>runs</th>\n",
              "      <th>wickets</th>\n",
              "      <th>overs</th>\n",
              "      <th>runs_last_5</th>\n",
              "      <th>wickets_last_5</th>\n",
              "      <th>total</th>\n",
              "      <th>batting_team_Chennai Super Kings</th>\n",
              "      <th>batting_team_Delhi Daredevils</th>\n",
              "      <th>batting_team_Kings XI Punjab</th>\n",
              "      <th>...</th>\n",
              "      <th>batting_team_Royal Challengers Bangalore</th>\n",
              "      <th>batting_team_Sunrisers Hyderabad</th>\n",
              "      <th>bowling_team_Chennai Super Kings</th>\n",
              "      <th>bowling_team_Delhi Daredevils</th>\n",
              "      <th>bowling_team_Kings XI Punjab</th>\n",
              "      <th>bowling_team_Kolkata Knight Riders</th>\n",
              "      <th>bowling_team_Mumbai Indians</th>\n",
              "      <th>bowling_team_Rajasthan Royals</th>\n",
              "      <th>bowling_team_Royal Challengers Bangalore</th>\n",
              "      <th>bowling_team_Sunrisers Hyderabad</th>\n",
              "    </tr>\n",
              "  </thead>\n",
              "  <tbody>\n",
              "    <tr>\n",
              "      <th>32</th>\n",
              "      <td>2008-04-18</td>\n",
              "      <td>61</td>\n",
              "      <td>0</td>\n",
              "      <td>5.1</td>\n",
              "      <td>59</td>\n",
              "      <td>0</td>\n",
              "      <td>222</td>\n",
              "      <td>False</td>\n",
              "      <td>False</td>\n",
              "      <td>False</td>\n",
              "      <td>...</td>\n",
              "      <td>False</td>\n",
              "      <td>False</td>\n",
              "      <td>False</td>\n",
              "      <td>False</td>\n",
              "      <td>False</td>\n",
              "      <td>False</td>\n",
              "      <td>False</td>\n",
              "      <td>False</td>\n",
              "      <td>True</td>\n",
              "      <td>False</td>\n",
              "    </tr>\n",
              "    <tr>\n",
              "      <th>33</th>\n",
              "      <td>2008-04-18</td>\n",
              "      <td>61</td>\n",
              "      <td>1</td>\n",
              "      <td>5.2</td>\n",
              "      <td>59</td>\n",
              "      <td>1</td>\n",
              "      <td>222</td>\n",
              "      <td>False</td>\n",
              "      <td>False</td>\n",
              "      <td>False</td>\n",
              "      <td>...</td>\n",
              "      <td>False</td>\n",
              "      <td>False</td>\n",
              "      <td>False</td>\n",
              "      <td>False</td>\n",
              "      <td>False</td>\n",
              "      <td>False</td>\n",
              "      <td>False</td>\n",
              "      <td>False</td>\n",
              "      <td>True</td>\n",
              "      <td>False</td>\n",
              "    </tr>\n",
              "    <tr>\n",
              "      <th>34</th>\n",
              "      <td>2008-04-18</td>\n",
              "      <td>61</td>\n",
              "      <td>1</td>\n",
              "      <td>5.3</td>\n",
              "      <td>59</td>\n",
              "      <td>1</td>\n",
              "      <td>222</td>\n",
              "      <td>False</td>\n",
              "      <td>False</td>\n",
              "      <td>False</td>\n",
              "      <td>...</td>\n",
              "      <td>False</td>\n",
              "      <td>False</td>\n",
              "      <td>False</td>\n",
              "      <td>False</td>\n",
              "      <td>False</td>\n",
              "      <td>False</td>\n",
              "      <td>False</td>\n",
              "      <td>False</td>\n",
              "      <td>True</td>\n",
              "      <td>False</td>\n",
              "    </tr>\n",
              "    <tr>\n",
              "      <th>35</th>\n",
              "      <td>2008-04-18</td>\n",
              "      <td>61</td>\n",
              "      <td>1</td>\n",
              "      <td>5.4</td>\n",
              "      <td>59</td>\n",
              "      <td>1</td>\n",
              "      <td>222</td>\n",
              "      <td>False</td>\n",
              "      <td>False</td>\n",
              "      <td>False</td>\n",
              "      <td>...</td>\n",
              "      <td>False</td>\n",
              "      <td>False</td>\n",
              "      <td>False</td>\n",
              "      <td>False</td>\n",
              "      <td>False</td>\n",
              "      <td>False</td>\n",
              "      <td>False</td>\n",
              "      <td>False</td>\n",
              "      <td>True</td>\n",
              "      <td>False</td>\n",
              "    </tr>\n",
              "    <tr>\n",
              "      <th>36</th>\n",
              "      <td>2008-04-18</td>\n",
              "      <td>61</td>\n",
              "      <td>1</td>\n",
              "      <td>5.5</td>\n",
              "      <td>58</td>\n",
              "      <td>1</td>\n",
              "      <td>222</td>\n",
              "      <td>False</td>\n",
              "      <td>False</td>\n",
              "      <td>False</td>\n",
              "      <td>...</td>\n",
              "      <td>False</td>\n",
              "      <td>False</td>\n",
              "      <td>False</td>\n",
              "      <td>False</td>\n",
              "      <td>False</td>\n",
              "      <td>False</td>\n",
              "      <td>False</td>\n",
              "      <td>False</td>\n",
              "      <td>True</td>\n",
              "      <td>False</td>\n",
              "    </tr>\n",
              "  </tbody>\n",
              "</table>\n",
              "<p>5 rows × 23 columns</p>\n",
              "</div>\n",
              "    <div class=\"colab-df-buttons\">\n",
              "\n",
              "  <div class=\"colab-df-container\">\n",
              "    <button class=\"colab-df-convert\" onclick=\"convertToInteractive('df-c6a839c0-42c4-4a18-972e-ac55fec7b921')\"\n",
              "            title=\"Convert this dataframe to an interactive table.\"\n",
              "            style=\"display:none;\">\n",
              "\n",
              "  <svg xmlns=\"http://www.w3.org/2000/svg\" height=\"24px\" viewBox=\"0 -960 960 960\">\n",
              "    <path d=\"M120-120v-720h720v720H120Zm60-500h600v-160H180v160Zm220 220h160v-160H400v160Zm0 220h160v-160H400v160ZM180-400h160v-160H180v160Zm440 0h160v-160H620v160ZM180-180h160v-160H180v160Zm440 0h160v-160H620v160Z\"/>\n",
              "  </svg>\n",
              "    </button>\n",
              "\n",
              "  <style>\n",
              "    .colab-df-container {\n",
              "      display:flex;\n",
              "      gap: 12px;\n",
              "    }\n",
              "\n",
              "    .colab-df-convert {\n",
              "      background-color: #E8F0FE;\n",
              "      border: none;\n",
              "      border-radius: 50%;\n",
              "      cursor: pointer;\n",
              "      display: none;\n",
              "      fill: #1967D2;\n",
              "      height: 32px;\n",
              "      padding: 0 0 0 0;\n",
              "      width: 32px;\n",
              "    }\n",
              "\n",
              "    .colab-df-convert:hover {\n",
              "      background-color: #E2EBFA;\n",
              "      box-shadow: 0px 1px 2px rgba(60, 64, 67, 0.3), 0px 1px 3px 1px rgba(60, 64, 67, 0.15);\n",
              "      fill: #174EA6;\n",
              "    }\n",
              "\n",
              "    .colab-df-buttons div {\n",
              "      margin-bottom: 4px;\n",
              "    }\n",
              "\n",
              "    [theme=dark] .colab-df-convert {\n",
              "      background-color: #3B4455;\n",
              "      fill: #D2E3FC;\n",
              "    }\n",
              "\n",
              "    [theme=dark] .colab-df-convert:hover {\n",
              "      background-color: #434B5C;\n",
              "      box-shadow: 0px 1px 3px 1px rgba(0, 0, 0, 0.15);\n",
              "      filter: drop-shadow(0px 1px 2px rgba(0, 0, 0, 0.3));\n",
              "      fill: #FFFFFF;\n",
              "    }\n",
              "  </style>\n",
              "\n",
              "    <script>\n",
              "      const buttonEl =\n",
              "        document.querySelector('#df-c6a839c0-42c4-4a18-972e-ac55fec7b921 button.colab-df-convert');\n",
              "      buttonEl.style.display =\n",
              "        google.colab.kernel.accessAllowed ? 'block' : 'none';\n",
              "\n",
              "      async function convertToInteractive(key) {\n",
              "        const element = document.querySelector('#df-c6a839c0-42c4-4a18-972e-ac55fec7b921');\n",
              "        const dataTable =\n",
              "          await google.colab.kernel.invokeFunction('convertToInteractive',\n",
              "                                                    [key], {});\n",
              "        if (!dataTable) return;\n",
              "\n",
              "        const docLinkHtml = 'Like what you see? Visit the ' +\n",
              "          '<a target=\"_blank\" href=https://colab.research.google.com/notebooks/data_table.ipynb>data table notebook</a>'\n",
              "          + ' to learn more about interactive tables.';\n",
              "        element.innerHTML = '';\n",
              "        dataTable['output_type'] = 'display_data';\n",
              "        await google.colab.output.renderOutput(dataTable, element);\n",
              "        const docLink = document.createElement('div');\n",
              "        docLink.innerHTML = docLinkHtml;\n",
              "        element.appendChild(docLink);\n",
              "      }\n",
              "    </script>\n",
              "  </div>\n",
              "\n",
              "\n",
              "    <div id=\"df-956c1ccf-86dd-4927-9179-8097772b5721\">\n",
              "      <button class=\"colab-df-quickchart\" onclick=\"quickchart('df-956c1ccf-86dd-4927-9179-8097772b5721')\"\n",
              "                title=\"Suggest charts\"\n",
              "                style=\"display:none;\">\n",
              "\n",
              "<svg xmlns=\"http://www.w3.org/2000/svg\" height=\"24px\"viewBox=\"0 0 24 24\"\n",
              "     width=\"24px\">\n",
              "    <g>\n",
              "        <path d=\"M19 3H5c-1.1 0-2 .9-2 2v14c0 1.1.9 2 2 2h14c1.1 0 2-.9 2-2V5c0-1.1-.9-2-2-2zM9 17H7v-7h2v7zm4 0h-2V7h2v10zm4 0h-2v-4h2v4z\"/>\n",
              "    </g>\n",
              "</svg>\n",
              "      </button>\n",
              "\n",
              "<style>\n",
              "  .colab-df-quickchart {\n",
              "      --bg-color: #E8F0FE;\n",
              "      --fill-color: #1967D2;\n",
              "      --hover-bg-color: #E2EBFA;\n",
              "      --hover-fill-color: #174EA6;\n",
              "      --disabled-fill-color: #AAA;\n",
              "      --disabled-bg-color: #DDD;\n",
              "  }\n",
              "\n",
              "  [theme=dark] .colab-df-quickchart {\n",
              "      --bg-color: #3B4455;\n",
              "      --fill-color: #D2E3FC;\n",
              "      --hover-bg-color: #434B5C;\n",
              "      --hover-fill-color: #FFFFFF;\n",
              "      --disabled-bg-color: #3B4455;\n",
              "      --disabled-fill-color: #666;\n",
              "  }\n",
              "\n",
              "  .colab-df-quickchart {\n",
              "    background-color: var(--bg-color);\n",
              "    border: none;\n",
              "    border-radius: 50%;\n",
              "    cursor: pointer;\n",
              "    display: none;\n",
              "    fill: var(--fill-color);\n",
              "    height: 32px;\n",
              "    padding: 0;\n",
              "    width: 32px;\n",
              "  }\n",
              "\n",
              "  .colab-df-quickchart:hover {\n",
              "    background-color: var(--hover-bg-color);\n",
              "    box-shadow: 0 1px 2px rgba(60, 64, 67, 0.3), 0 1px 3px 1px rgba(60, 64, 67, 0.15);\n",
              "    fill: var(--button-hover-fill-color);\n",
              "  }\n",
              "\n",
              "  .colab-df-quickchart-complete:disabled,\n",
              "  .colab-df-quickchart-complete:disabled:hover {\n",
              "    background-color: var(--disabled-bg-color);\n",
              "    fill: var(--disabled-fill-color);\n",
              "    box-shadow: none;\n",
              "  }\n",
              "\n",
              "  .colab-df-spinner {\n",
              "    border: 2px solid var(--fill-color);\n",
              "    border-color: transparent;\n",
              "    border-bottom-color: var(--fill-color);\n",
              "    animation:\n",
              "      spin 1s steps(1) infinite;\n",
              "  }\n",
              "\n",
              "  @keyframes spin {\n",
              "    0% {\n",
              "      border-color: transparent;\n",
              "      border-bottom-color: var(--fill-color);\n",
              "      border-left-color: var(--fill-color);\n",
              "    }\n",
              "    20% {\n",
              "      border-color: transparent;\n",
              "      border-left-color: var(--fill-color);\n",
              "      border-top-color: var(--fill-color);\n",
              "    }\n",
              "    30% {\n",
              "      border-color: transparent;\n",
              "      border-left-color: var(--fill-color);\n",
              "      border-top-color: var(--fill-color);\n",
              "      border-right-color: var(--fill-color);\n",
              "    }\n",
              "    40% {\n",
              "      border-color: transparent;\n",
              "      border-right-color: var(--fill-color);\n",
              "      border-top-color: var(--fill-color);\n",
              "    }\n",
              "    60% {\n",
              "      border-color: transparent;\n",
              "      border-right-color: var(--fill-color);\n",
              "    }\n",
              "    80% {\n",
              "      border-color: transparent;\n",
              "      border-right-color: var(--fill-color);\n",
              "      border-bottom-color: var(--fill-color);\n",
              "    }\n",
              "    90% {\n",
              "      border-color: transparent;\n",
              "      border-bottom-color: var(--fill-color);\n",
              "    }\n",
              "  }\n",
              "</style>\n",
              "\n",
              "      <script>\n",
              "        async function quickchart(key) {\n",
              "          const quickchartButtonEl =\n",
              "            document.querySelector('#' + key + ' button');\n",
              "          quickchartButtonEl.disabled = true;  // To prevent multiple clicks.\n",
              "          quickchartButtonEl.classList.add('colab-df-spinner');\n",
              "          try {\n",
              "            const charts = await google.colab.kernel.invokeFunction(\n",
              "                'suggestCharts', [key], {});\n",
              "          } catch (error) {\n",
              "            console.error('Error during call to suggestCharts:', error);\n",
              "          }\n",
              "          quickchartButtonEl.classList.remove('colab-df-spinner');\n",
              "          quickchartButtonEl.classList.add('colab-df-quickchart-complete');\n",
              "        }\n",
              "        (() => {\n",
              "          let quickchartButtonEl =\n",
              "            document.querySelector('#df-956c1ccf-86dd-4927-9179-8097772b5721 button');\n",
              "          quickchartButtonEl.style.display =\n",
              "            google.colab.kernel.accessAllowed ? 'block' : 'none';\n",
              "        })();\n",
              "      </script>\n",
              "    </div>\n",
              "\n",
              "    </div>\n",
              "  </div>\n"
            ],
            "application/vnd.google.colaboratory.intrinsic+json": {
              "type": "dataframe",
              "variable_name": "encoded_df"
            }
          },
          "metadata": {},
          "execution_count": 17
        }
      ]
    },
    {
      "cell_type": "code",
      "source": [
        "# b. Rearranging Columns\n",
        "# Rearranging columns to group similar features together for better readability and control.\n",
        "# It helps ensure the feature order is consistent before splitting data and feeding it into a model.\n",
        "# Placing 'date' first for potential filtering or time-based analysis later.\n",
        "# Grouping all 'batting_team' one-hot encoded columns together.\n",
        "# Grouping all 'bowling_team' one-hot encoded columns together.\n",
        "# Keeping numerical features (like overs, runs, etc.) next.\n",
        "# Finally, placing 'total' (target variable) at the end.\n",
        "encoded_df = encoded_df[['date',\n",
        "'batting_team_Chennai Super Kings', 'batting_team_Delhi Daredevils',\n",
        "'batting_team_Kings XI Punjab', 'batting_team_Kolkata Knight Riders',\n",
        "'batting_team_Mumbai Indians', 'batting_team_Rajasthan Royals',\n",
        "'batting_team_Royal Challengers Bangalore', 'batting_team_Sunrisers Hyderabad',\n",
        "'bowling_team_Chennai Super Kings', 'bowling_team_Delhi Daredevils',\n",
        "'bowling_team_Kings XI Punjab', 'bowling_team_Kolkata Knight Riders',\n",
        "'bowling_team_Mumbai Indians', 'bowling_team_Rajasthan Royals',\n",
        "'bowling_team_Royal Challengers Bangalore', 'bowling_team_Sunrisers Hyderabad',\n",
        "'overs', 'runs', 'wickets', 'runs_last_5', 'wickets_last_5',\n",
        "'total']]\n",
        "# Target variable (what we want to predict)"
      ],
      "metadata": {
        "id": "hyXpeKRq0Nnv"
      },
      "execution_count": null,
      "outputs": []
    },
    {
      "cell_type": "code",
      "source": [
        "# Step 5: Splitting the dataset:"
      ],
      "metadata": {
        "id": "Kgrm0Q480Nk9"
      },
      "execution_count": null,
      "outputs": []
    },
    {
      "cell_type": "code",
      "source": [
        "# Splitting the features and target variable based on the 'date' column.\n",
        "# We are using historical data (till 2016) for training, and data from 2017 onwards for testing.\n",
        "# This kind of split mimics a real-world scenario where we train on past data and predict on future matches.\n",
        "\n",
        "# Extracting the training features (excluding 'total') where year ≤ 2016\n",
        "X_train = encoded_df.drop(labels='total', axis=1)[encoded_df['date'].dt.year <= 2016]\n",
        "\n",
        "# Extracting the testing features (excluding 'total') where year ≥ 2017\n",
        "X_test = encoded_df.drop(labels='total', axis=1)[encoded_df['date'].dt.year >= 2017]\n",
        "\n",
        "# Extracting the target variable (total runs) for training and testing sets\n",
        "y_train = encoded_df[encoded_df['date'].dt.year <= 2016]['total'].values\n",
        "y_test = encoded_df[encoded_df['date'].dt.year >= 2017]['total'].values\n",
        "\n",
        "# Dropping the 'date' column from both feature sets as it's not needed for model training\n",
        "X_train.drop(labels='date', axis=True, inplace=True)\n",
        "X_test.drop(labels='date', axis=True, inplace=True)\n",
        "\n",
        "# Displaying the shapes of training and testing datasets for verification\n",
        "print(\"Training set: {} and Test set: {}\".format(X_train.shape, X_test.shape))"
      ],
      "metadata": {
        "colab": {
          "base_uri": "https://localhost:8080/"
        },
        "id": "6NjqUSKo0Niq",
        "outputId": "8de694e4-3ade-47cc-ef4f-8b67b0412f7e"
      },
      "execution_count": null,
      "outputs": [
        {
          "output_type": "stream",
          "name": "stdout",
          "text": [
            "Training set: (37330, 21) and Test set: (2778, 21)\n"
          ]
        }
      ]
    },
    {
      "cell_type": "code",
      "source": [
        "# Step 5: Model training and Evaluation:"
      ],
      "metadata": {
        "id": "npW-JKnP0NgZ"
      },
      "execution_count": null,
      "outputs": []
    },
    {
      "cell_type": "code",
      "source": [
        "# 1) Linear Regressor\n",
        "# Importing the Linear Regression model from sklearn\n",
        "from sklearn.linear_model import LinearRegression\n",
        "\n",
        "\n",
        "# Initializing the Linear Regression model\n",
        "linear_regressor = LinearRegression()\n",
        "\n",
        "\n",
        "# Training (fitting) the model on training data\n",
        "linear_regressor.fit(X_train, y_train)\n",
        "\n",
        "\n",
        "# Using the trained model to make predictions on the test data\n",
        "y_pred_lr = linear_regressor.predict(X_test)\n",
        "\n",
        "\n",
        "# Importing evaluation metrics\n",
        "from sklearn.metrics import mean_absolute_error as mae, mean_squared_error as mse,r2_score\n",
        "\n",
        "\n",
        "# Printing out the evaluation results for Linear Regression\n",
        "print(\"---- Linear Regression - Model evaluation ----\")\n",
        "\n",
        "\n",
        "# Average absolute difference between actual and predicted scores\n",
        "print(\"Mean Absolute Error (MAE): {}\".format(mae(y_test, y_pred_lr)))\n",
        "\n",
        "# Average of squared differences between actual and predicted\n",
        "print(\"Mean Squared Error (MSE): {}\".format(mse(y_test, y_pred_lr)))\n",
        "\n",
        "# Square root of MSE (gives error in original units)\n",
        "print(\"Root Mean Squared Error (RMSE): {}\".format(np.sqrt(mse(y_test, y_pred_lr))))\n",
        "\n",
        "# R2 score measures how well the predictions match the actual values (1 = perfect)\n",
        "print(\"R2 Score: {}\".format(r2_score(y_test, y_pred_lr)))"
      ],
      "metadata": {
        "colab": {
          "base_uri": "https://localhost:8080/"
        },
        "id": "IBNCx3Dv0Ndr",
        "outputId": "0a3f3d8b-18f6-49d6-9ed9-ddf853536841"
      },
      "execution_count": null,
      "outputs": [
        {
          "output_type": "stream",
          "name": "stdout",
          "text": [
            "---- Linear Regression - Model evaluation ----\n",
            "Mean Absolute Error (MAE): 12.118617546193299\n",
            "Mean Squared Error (MSE): 251.00792310417438\n",
            "Root Mean Squared Error (RMSE): 15.843229566732106\n",
            "R2 Score: 0.7522633566350527\n"
          ]
        }
      ]
    },
    {
      "cell_type": "code",
      "source": [
        "# 2) Decision Tree Regressor\n",
        "\n",
        "# Importing DecisionTreeRegressor from sklearn\n",
        "from sklearn.tree import DecisionTreeRegressor\n",
        "\n",
        "\n",
        "# Initializing the model\n",
        "decision_regressor = DecisionTreeRegressor()\n",
        "\n",
        "\n",
        "# Training the Decision Tree model on training data\n",
        "decision_regressor.fit(X_train, y_train)\n",
        "\n",
        "\n",
        "# Predicting the test set results\n",
        "y_pred_dt = decision_regressor.predict(X_test)\n",
        "\n",
        "\n",
        "# Evaluating the model's performance\n",
        "print(\"---- Decision Tree Regression - Model Evaluation ----\")\n",
        "\n",
        "\n",
        "# Measures average error\n",
        "print(\"Mean Absolute Error (MAE): {}\".format(mae(y_test, y_pred_dt)))\n",
        "\n",
        "\n",
        "# Penalizes larger errors\n",
        "print(\"Mean Squared Error (MSE): {}\".format(mse(y_test, y_pred_dt)))\n",
        "\n",
        "\n",
        "# RMSE in original units\n",
        "print(\"Root Mean Squared Error (RMSE): {}\".format(np.sqrt(mse(y_test, y_pred_dt))))\n",
        "\n",
        "\n",
        "# Measures model accuracy\n",
        "print(\"R2 Score: {}\".format(r2_score(y_test, y_pred_dt)))"
      ],
      "metadata": {
        "colab": {
          "base_uri": "https://localhost:8080/"
        },
        "id": "qF1c_oTV0NbL",
        "outputId": "8d81494d-b349-4a5a-9ef6-c41b6781b304"
      },
      "execution_count": null,
      "outputs": [
        {
          "output_type": "stream",
          "name": "stdout",
          "text": [
            "---- Decision Tree Regression - Model Evaluation ----\n",
            "Mean Absolute Error (MAE): 17.014398848092153\n",
            "Mean Squared Error (MSE): 526.4391648668106\n",
            "Root Mean Squared Error (RMSE): 22.944262133849733\n",
            "R2 Score: 0.4804216933589661\n"
          ]
        }
      ]
    },
    {
      "cell_type": "code",
      "source": [
        "# 3) Random Forest\n",
        "\n",
        "# Importing RandomForestRegressor from sklearn\n",
        "from sklearn.ensemble import RandomForestRegressor\n",
        "\n",
        "\n",
        "# Initializing the Random Forest model\n",
        "random_regressor = RandomForestRegressor()\n",
        "\n",
        "\n",
        "# Training the model\n",
        "random_regressor.fit(X_train, y_train)\n",
        "\n",
        "\n",
        "# Predicting the test set results\n",
        "y_pred_rf = random_regressor.predict(X_test)\n",
        "\n",
        "\n",
        "# Evaluating the model's performance\n",
        "print(\"---- Random Forest Regression - Model Evaluation ----\")\n",
        "print(\"Mean Absolute Error (MAE): {}\".format(mae(y_test, y_pred_rf)))\n",
        "print(\"Mean Squared Error (MSE): {}\".format(mse(y_test, y_pred_rf)))\n",
        "print(\"Root Mean Squared Error (RMSE): {}\".format(np.sqrt(mse(y_test, y_pred_rf))))\n",
        "print(\"R2 Score: {}\".format(r2_score(y_test, y_pred_rf)))"
      ],
      "metadata": {
        "colab": {
          "base_uri": "https://localhost:8080/"
        },
        "id": "ByxVTaUi0NYZ",
        "outputId": "02393de3-86bf-4947-a63d-cd820057b459"
      },
      "execution_count": null,
      "outputs": [
        {
          "output_type": "stream",
          "name": "stdout",
          "text": [
            "---- Random Forest Regression - Model Evaluation ----\n",
            "Mean Absolute Error (MAE): 13.761241200703944\n",
            "Mean Squared Error (MSE): 331.96618509523347\n",
            "Root Mean Squared Error (RMSE): 18.219939217660237\n",
            "R2 Score: 0.6723601893155051\n"
          ]
        }
      ]
    },
    {
      "cell_type": "code",
      "source": [
        "# 4) AdaBoost Algorithm\n",
        "\n",
        "# Importing AdaBoostRegressor\n",
        "from sklearn.ensemble import AdaBoostRegressor\n",
        "\n",
        "\n",
        "# Initializing the AdaBoost Regressor using Linear Regression as the base estimator\n",
        "adb_regressor = AdaBoostRegressor(estimator=linear_regressor, n_estimators=100)\n",
        "\n",
        "\n",
        "# Fitting the AdaBoost model to training data\n",
        "adb_regressor.fit(X_train, y_train)\n",
        "\n",
        "\n",
        "# Making predictions on test data\n",
        "y_pred_adb = adb_regressor.predict(X_test)\n",
        "\n",
        "\n",
        "# Evaluating AdaBoost performance\n",
        "print(\"---- AdaBoost Regression - Model Evaluation ----\")\n",
        "print(\"Mean Absolute Error (MAE): {}\".format(mae(y_test, y_pred_adb)))\n",
        "print(\"Mean Squared Error (MSE): {}\".format(mse(y_test, y_pred_adb)))\n",
        "print(\"Root Mean Squared Error (RMSE): {}\".format(np.sqrt(mse(y_test, y_pred_adb))))\n",
        "print(\"R2 Score: {}\".format(r2_score(y_test, y_pred_adb)))"
      ],
      "metadata": {
        "colab": {
          "base_uri": "https://localhost:8080/"
        },
        "id": "-qNQbNeE0NV9",
        "outputId": "f0a8c8a3-4202-477e-df9d-4856f89017d8"
      },
      "execution_count": null,
      "outputs": [
        {
          "output_type": "stream",
          "name": "stdout",
          "text": [
            "---- AdaBoost Regression - Model Evaluation ----\n",
            "Mean Absolute Error (MAE): 12.142305821937557\n",
            "Mean Squared Error (MSE): 246.85658725284867\n",
            "Root Mean Squared Error (RMSE): 15.71167041574029\n",
            "R2 Score: 0.7563605898879695\n"
          ]
        }
      ]
    },
    {
      "cell_type": "code",
      "source": [
        "# Step 6 : Saving the best model"
      ],
      "metadata": {
        "id": "5wsko6Xu3T-G"
      },
      "execution_count": null,
      "outputs": []
    },
    {
      "cell_type": "code",
      "source": [
        "# Step 7: Inferencing Function\n",
        "# This function takes match context as input and returns the predicted final score.\n",
        "def predict_score(batting_team='Chennai Super Kings', bowling_team='Mumbai Indians', overs=5.1, runs=50, wickets=0, runs_in_prev_5=50, wickets_in_prev_5=0):\n",
        "    temp_array = list()\n",
        "    # Temporary list to hold all input features\n",
        "    # Encoding the batting team using One-Hot Encoding\n",
        "    # Each condition corresponds to one of the 8 consistent IPL teams\n",
        "    # Only one team will be marked as 1, the rest 0\n",
        "    if batting_team == 'Chennai Super Kings':\n",
        "        temp_array = temp_array + [1, 0, 0, 0, 0, 0, 0, 0]\n",
        "    elif batting_team == 'Delhi Daredevils':\n",
        "        temp_array = temp_array + [0, 1, 0, 0, 0, 0, 0, 0]\n",
        "    elif batting_team == 'Kings XI Punjab':\n",
        "        temp_array = temp_array + [0, 0, 1, 0, 0, 0, 0, 0]\n",
        "    elif batting_team == 'Kolkata Knight Riders':\n",
        "        temp_array = temp_array + [0, 0, 0, 1, 0, 0, 0, 0]\n",
        "    elif batting_team == 'Mumbai Indians':\n",
        "        temp_array = temp_array + [0, 0, 0, 0, 1, 0, 0, 0]\n",
        "    elif batting_team == 'Rajasthan Royals':\n",
        "        temp_array = temp_array + [0, 0, 0, 0, 0, 1, 0, 0]\n",
        "    elif batting_team == 'Royal Challengers Bangalore':\n",
        "        temp_array = temp_array + [0, 0, 0, 0, 0, 0, 1, 0]\n",
        "    elif batting_team == 'Sunrisers Hyderabad':\n",
        "        temp_array = temp_array + [0, 0, 0, 0, 0, 0, 0, 1]\n",
        "    # Encoding the bowling team\n",
        "    if bowling_team == 'Chennai Super Kings':\n",
        "        temp_array = temp_array + [1, 0, 0, 0, 0, 0, 0, 0]\n",
        "    elif bowling_team == 'Delhi Daredevils':\n",
        "        temp_array = temp_array + [0, 1, 0, 0, 0, 0, 0, 0]\n",
        "    elif bowling_team == 'Kings XI Punjab':\n",
        "        temp_array = temp_array + [0, 0, 1, 0, 0, 0, 0, 0]\n",
        "    elif bowling_team == 'Kolkata Knight Riders':\n",
        "        temp_array = temp_array + [0, 0, 0, 1, 0, 0, 0, 0]\n",
        "    elif bowling_team == 'Mumbai Indians':\n",
        "        temp_array = temp_array + [0, 0, 0, 0, 1, 0, 0, 0]\n",
        "    elif bowling_team == 'Rajasthan Royals':\n",
        "        temp_array = temp_array + [0, 0, 0, 0, 0, 1, 0, 0]\n",
        "    elif bowling_team == 'Royal Challengers Bangalore':\n",
        "        temp_array = temp_array + [0, 0, 0, 0, 0, 0, 1, 0]\n",
        "    elif bowling_team == 'Sunrisers Hyderabad':\n",
        "        temp_array = temp_array + [0, 0, 0, 0, 0, 0, 0, 1]\n",
        "    # Adding other numerical features\n",
        "    temp_array = temp_array + [overs, runs, wickets, runs_in_prev_5, wickets_in_prev_5]\n",
        "    # Converting to numpy array and reshaping for prediction\n",
        "    temp_array = np.array([temp_array])\n",
        "    # Scaling the input using the scaler fitted on the training data\n",
        "    # Note: We need to fit the scaler on the training data first.\n",
        "    # Assuming a scaler is already fitted as part of the overall process.\n",
        "    # If not, a StandardScaler should be fitted to X_train before this function is called.\n",
        "    # temp_array = scaler.transform(temp_array) # Uncomment if using scaling\n",
        "    # Making prediction using the best model (AdaBoost in this case)\n",
        "    return int(adb_regressor.predict(temp_array)[0])\n",
        "\n",
        "\n",
        "   # Encoding the bowling team in the same way as the batting team\n",
        "    if bowling_team == 'Chennai Super Kings':\n",
        "       temp_array = temp_array + [1, 0, 0, 0, 0, 0, 0, 0]\n",
        "    elif bowling_team == 'Delhi Daredevils':\n",
        "        temp_array = temp_array + [0, 1, 0, 0, 0, 0, 0, 0]\n",
        "    elif bowling_team == 'Kings XI Punjab':\n",
        "        temp_array = temp_array + [0, 0, 1, 0, 0, 0, 0, 0]\n",
        "    elif bowling_team == 'Kolkata Knight Riders':\n",
        "        temp_array = temp_array + [0, 0, 0, 1, 0, 0, 0, 0]\n",
        "    elif bowling_team == 'Mumbai Indians':\n",
        "        temp_array = temp_array + [0, 0, 0, 0, 1, 0, 0, 0]\n",
        "    elif bowling_team == 'Rajasthan Royals':\n",
        "        temp_array = temp_array + [0, 0, 0, 0, 0, 1, 0, 0]\n",
        "    elif bowling_team == 'Royal Challengers Bangalore':\n",
        "        temp_array = temp_array + [0, 0, 0, 0, 0, 0, 1, 0]\n",
        "    elif bowling_team == 'Sunrisers Hyderabad':\n",
        "        temp_array = temp_array + [0, 0, 0, 0, 0, 0, 0, 1]\n",
        "\n",
        "     # Appending match-specific numerical features to the encoded team data\n",
        "    # These include overs so far, total runs, wickets, last 5 overs' runs and wickets\n",
        "    temp_array = temp_array + [overs, runs, wickets, runs_in_prev_5, wickets_in_prev_5]\n",
        "\n",
        "      # Converting the final input list into a 2D numpy array\n",
        "    temp_array = np.array([temp_array])\n",
        "\n",
        "    # Making prediction using the trained Linear Regression model\n",
        "    # The model must already be loaded or trained in the same session\n",
        "    return int(linear_regressor.predict(temp_array)[0])"
      ],
      "metadata": {
        "id": "mP_W8ChO3a42"
      },
      "execution_count": null,
      "outputs": []
    },
    {
      "cell_type": "code",
      "source": [
        "from sklearn.linear_model import LinearRegression\n",
        "from sklearn.ensemble import AdaBoostRegressor\n",
        "import pickle\n",
        "\n",
        "# X_train, y_train = ... # Your feature and label arrays\n",
        "\n",
        "# Example for Linear Regression\n",
        "linear_regressor = LinearRegression()\n",
        "linear_regressor.fit(X_train, y_train)\n",
        "\n",
        "# Example for AdaBoost\n",
        "adb_regressor = AdaBoostRegressor()\n",
        "adb_regressor.fit(X_train, y_train)\n",
        "\n",
        "with open('linear_regressor.pkl', 'wb') as f:\n",
        "    pickle.dump(linear_regressor, f)\n",
        "\n",
        "with open('adb_regressor.pkl', 'wb') as f:\n",
        "    pickle.dump(adb_regressor, f)"
      ],
      "metadata": {
        "id": "MLIwXzWO3avx"
      },
      "execution_count": null,
      "outputs": []
    },
    {
      "cell_type": "code",
      "source": [
        "import pickle\n",
        "\n",
        "with open('linear_regressor.pkl', 'rb') as f:\n",
        "    linear_regressor = pickle.load(f)\n",
        "\n",
        "with open('adb_regressor.pkl', 'rb') as f:\n",
        "    adb_regressor = pickle.load(f)"
      ],
      "metadata": {
        "id": "gB3Bab3U3atW"
      },
      "execution_count": null,
      "outputs": []
    }
  ]
}